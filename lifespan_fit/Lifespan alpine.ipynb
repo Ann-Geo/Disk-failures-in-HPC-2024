{
 "cells": [
  {
   "cell_type": "code",
   "execution_count": 1,
   "metadata": {},
   "outputs": [],
   "source": [
    "import pandas as pd\n",
    "import numpy as np\n",
    "import matplotlib.pyplot as plt\n",
    "import seaborn as sns\n",
    "import matplotlib.ticker as mticker\n",
    "import ast\n",
    "from scipy.stats import weibull_min\n",
    "from scipy.stats import lognorm, gamma, expon\n",
    "from statsmodels.tsa.stattools import acf\n",
    "from dateutil.parser import isoparse\n",
    "from mpl_toolkits.axes_grid1.inset_locator import inset_axes\n",
    "from striprtf.striprtf import rtf_to_text\n",
    "\n",
    "\n",
    "# Set universal font sizes using rcParams\n",
    "plt.rcParams['axes.labelsize'] = 15  # For x and y labels\n",
    "plt.rcParams['xtick.labelsize'] = 14 # For x-ticks\n",
    "plt.rcParams['ytick.labelsize'] = 14  # For y-ticks\n",
    "plt.rcParams['legend.fontsize'] = 15  # For legend\n",
    "plt.rcParams['axes.titlesize'] = 15"
   ]
  },
  {
   "cell_type": "code",
   "execution_count": 2,
   "metadata": {},
   "outputs": [],
   "source": [
    "def read_rtf_and_convert(input_file):\n",
    "    try:\n",
    "        with open(input_file, 'r') as file:\n",
    "            rtf_content = file.read()\n",
    "        plain_text = rtf_to_text(rtf_content)\n",
    "    except Exception as e:\n",
    "        print(f\"An error occurred: {e}\")\n",
    "        return None\n",
    "    \n",
    "\n",
    "    formatted_text_content = plain_text.replace(\" \", \", \")\n",
    "    lifespan = [float(x) for x in ast.literal_eval(formatted_text_content)]\n",
    "    \n",
    "    return lifespan"
   ]
  },
  {
   "cell_type": "code",
   "execution_count": 3,
   "metadata": {},
   "outputs": [],
   "source": [
    "def adjust_before_fit(lifespan):\n",
    "    # Add a small constant to all values to make them strictly positive\n",
    "    small_constant = 1e-6\n",
    "    # time_between_failures_adjusted = [x + small_constant for x in time_between_failres]\n",
    "    lifespan_adjusted = lifespan\n",
    "    return lifespan_adjusted"
   ]
  },
  {
   "cell_type": "code",
   "execution_count": 4,
   "metadata": {},
   "outputs": [],
   "source": [
    "def plot_cdf(data, axs, storage):\n",
    "    data_sorted = np.sort(data)\n",
    "    cdf = np.arange(1, len(data_sorted) + 1) / len(data_sorted)\n",
    "    \n",
    "    if storage == 'alpine':\n",
    "        axs.plot(data_sorted, cdf, linestyle='solid', linewidth='2', color='blue', label='Data')\n",
    "    else:\n",
    "        axs.plot(data_sorted, cdf, linestyle='solid', linewidth='2', color='blue')"
   ]
  },
  {
   "cell_type": "code",
   "execution_count": 5,
   "metadata": {},
   "outputs": [],
   "source": [
    "# Function to plot Weibull CDF\n",
    "def plot_weibull_cdf(data, axs, storage):\n",
    "    # Sort the data\n",
    "    data_sorted = np.sort(data)\n",
    "    data_min = data_sorted.min()\n",
    "    data_max = data_sorted.max()\n",
    "\n",
    "    # Fit a Weibull distribution to the data\n",
    "    shape, loc, scale = weibull_min.fit(data_sorted, floc=0)\n",
    "    log_likelihood = np.sum(weibull_min.logpdf(data_sorted, shape, loc, scale))\n",
    "    print(f\"Weibull parameters: shape={shape}, loc={loc}, scale={scale}, log-likelihood={log_likelihood}\")\n",
    "\n",
    "\n",
    "    # Generate Weibull CDF values\n",
    "    # First Generate x-axis values\n",
    "    # Since our plot is in log scale, we want more datapoints to concentrate on the left side\n",
    "    # We do so by generating x values using log scale as well\n",
    "    num_points = 10000\n",
    "    x_min, x_max = 1, 8  # Avoid zero in log scale\n",
    "\n",
    "    # Generate linearly spaced data\n",
    "    linear_data = np.linspace(x_min, x_max, num_points)\n",
    "\n",
    "    # Apply a power transformation\n",
    "    power = 10  # Adjust this power to control the skewness\n",
    "    transformed_data = linear_data**power\n",
    "\n",
    "    # Normalize to maintain the original range\n",
    "    transformed_data = (transformed_data - transformed_data.min()) / (transformed_data.max() - transformed_data.min())\n",
    "    x = transformed_data * (data_max - data_min) + data_min\n",
    "    # x = np.linspace(min(data_sorted), max(data_sorted), 1000000)\n",
    "    weibull_cdf = weibull_min.cdf(x, shape, loc, scale)\n",
    "\n",
    "    # Plot the Weibull CDF\n",
    "    if storage == 'alpine':\n",
    "        axs.plot(x, weibull_cdf, linestyle='dashed', linewidth='2', color='deeppink', label='Weibull')\n",
    "    else:\n",
    "        axs.plot(x, weibull_cdf, linestyle='dashed', linewidth='2', color='deeppink')\n"
   ]
  },
  {
   "cell_type": "code",
   "execution_count": 6,
   "metadata": {},
   "outputs": [],
   "source": [
    "# Function to plot Lognormal CDF\n",
    "def plot_lognormal_cdf(data, axs, storage):\n",
    "    # Sort the data\n",
    "    data_sorted = np.sort(data)\n",
    "    data_min = data_sorted.min()\n",
    "    data_max = data_sorted.max()\n",
    "\n",
    "    # Fit a lognormal distribution to the data\n",
    "    shape, loc, scale = lognorm.fit(data, floc=0)\n",
    "    log_likelihood = np.sum(lognorm.logpdf(data_sorted, shape, loc, scale))\n",
    "    print(f\"Lognormal parameters: shape={shape}, loc={loc}, scale={scale}, log-likelihood={log_likelihood}\")\n",
    "\n",
    "\n",
    "    # Generate CDF values\n",
    "    # First Generate x-axis values\n",
    "    # Since our plot is in log scale, we want more datapoints to concentrate on the left side\n",
    "    # We do so by generating x values using log scale as well\n",
    "    num_points = 10000\n",
    "    x_min, x_max = 1, 8  # Avoid zero in log scale\n",
    "\n",
    "    # Generate linearly spaced data\n",
    "    linear_data = np.linspace(x_min, x_max, num_points)\n",
    "\n",
    "    # Apply a power transformation\n",
    "    power = 10  # Adjust this power to control the skewness\n",
    "    transformed_data = linear_data**power\n",
    "\n",
    "    # Normalize to maintain the original range\n",
    "    transformed_data = (transformed_data - transformed_data.min()) / (transformed_data.max() - transformed_data.min())\n",
    "    x = transformed_data * (data_max - data_min) + data_min\n",
    "\n",
    "    # x = np.linspace(min(data_sorted), max(data_sorted), 1000000)\n",
    "    lognorm_cdf = lognorm.cdf(x, shape, loc, scale)\n",
    "\n",
    "    # Plot the Weibull CDF\n",
    "    if storage == 'alpine':\n",
    "        axs.plot(x, lognorm_cdf, linestyle='dashdot', linewidth='2', color='forestgreen', label='Lognormal')\n",
    "    else:\n",
    "        axs.plot(x, lognorm_cdf, linestyle='dashdot', linewidth='2', color='forestgreen')"
   ]
  },
  {
   "cell_type": "code",
   "execution_count": 7,
   "metadata": {},
   "outputs": [],
   "source": [
    "# Function to plot Gamma CDF\n",
    "def plot_gamma_cdf(data, axs, storage):\n",
    "    # Sort the data\n",
    "    data_sorted = np.sort(data)\n",
    "    data_min = data_sorted.min()\n",
    "    data_max = data_sorted.max()\n",
    "\n",
    "    # Fit a Gamma distribution to the data\n",
    "    shape, loc, scale = gamma.fit(data, floc=0)\n",
    "    log_likelihood = np.sum(gamma.logpdf(data_sorted, shape, loc, scale))\n",
    "    print(f\"Gamma parameters: shape={shape}, loc={loc}, scale={scale}, log-likelihood={log_likelihood}\")\n",
    "\n",
    "\n",
    "    # Generate Gamma CDF values\n",
    "    num_points = 10000\n",
    "    x_min, x_max = 1, 8  # Avoid zero in log scale\n",
    "\n",
    "    # Generate linearly spaced data\n",
    "    linear_data = np.linspace(x_min, x_max, num_points)\n",
    "\n",
    "    # Apply a power transformation\n",
    "    power = 10  # Adjust this power to control the skewness\n",
    "    transformed_data = linear_data**power\n",
    "\n",
    "    # Normalize to maintain the original range\n",
    "    transformed_data = (transformed_data - transformed_data.min()) / (transformed_data.max() - transformed_data.min())\n",
    "    x = transformed_data * (data_max - data_min) + data_min\n",
    "\n",
    "    gamma_cdf = gamma.cdf(x, shape, loc, scale)\n",
    "\n",
    "    # Plot the Gamma CDF\n",
    "    if storage == 'alpine':\n",
    "        axs.plot(x, gamma_cdf, linestyle='dotted', linewidth='2', color='orangered', label='Gamma')\n",
    "    else:\n",
    "        axs.plot(x, gamma_cdf, linestyle='dotted', linewidth='2', color='orangered')\n",
    "\n"
   ]
  },
  {
   "cell_type": "code",
   "execution_count": 8,
   "metadata": {},
   "outputs": [],
   "source": [
    "# Function to plot Exponential CDF\n",
    "def plot_exponential_cdf(data, axs, storage):\n",
    "    # Sort the data\n",
    "    data_sorted = np.sort(data)\n",
    "    data_min = data_sorted.min()\n",
    "    data_max = data_sorted.max()\n",
    "\n",
    "    # Fit an Exponential distribution to the data\n",
    "    loc, scale = expon.fit(data, floc=0)\n",
    "    log_likelihood = np.sum(expon.logpdf(data_sorted, loc, scale))\n",
    "    print(f\"Exponential parameters: loc={loc}, scale={scale}, log-likelihood={log_likelihood}\")\n",
    "       # Generate Exponential CDF values\n",
    "    num_points = 10000\n",
    "    x_min, x_max = 1, 8  # Avoid zero in log scale\n",
    "\n",
    "    # Generate linearly spaced data\n",
    "    linear_data = np.linspace(x_min, x_max, num_points)\n",
    "\n",
    "    # Apply a power transformation\n",
    "    power = 10  # Adjust this power to control the skewness\n",
    "    transformed_data = linear_data**power\n",
    "\n",
    "    # Normalize to maintain the original range\n",
    "    transformed_data = (transformed_data - transformed_data.min()) / (transformed_data.max() - transformed_data.min())\n",
    "    x = transformed_data * (data_max - data_min) + data_min\n",
    "\n",
    "    exponential_cdf = expon.cdf(x, loc, scale)\n",
    "\n",
    "    # Plot the Exponential CDF\n",
    "    if storage == 'alpine':\n",
    "        axs.plot(x, exponential_cdf, linestyle='dashdot', linewidth='2', color='darkviolet', label='Exponential')\n",
    "    else:\n",
    "        axs.plot(x, exponential_cdf, linestyle='dashdot', linewidth='2', color='darkviolet')\n"
   ]
  },
  {
   "cell_type": "code",
   "execution_count": 9,
   "metadata": {},
   "outputs": [],
   "source": [
    "def generate_plots(alpine_adjusted, camp_adjusted):\n",
    "    fig, axs = plt.subplots(nrows=1, ncols=2, figsize=(10, 3))\n",
    "    plot_cdf(alpine_adjusted, axs[0], 'alpine')\n",
    "    plot_weibull_cdf(alpine_adjusted, axs[0], 'alpine')\n",
    "    plot_lognormal_cdf(alpine_adjusted, axs[0], 'alpine')\n",
    "    plot_gamma_cdf(alpine_adjusted, axs[0], 'alpine')\n",
    "    plot_exponential_cdf(alpine_adjusted, axs[0], 'alpine')\n",
    "    \n",
    "    \n",
    "    axs[0].set_xlabel('Lifespan (hours)')\n",
    "    axs[0].set_ylabel('CDF')\n",
    "    axs[0].set_title('(a) Alpine', pad=34)\n",
    "    axs[0].set_xscale('log')\n",
    "    axs[0].set_xlim(10, 100000)\n",
    "    axs[0].grid(True, linestyle=':', alpha=0.8)\n",
    "    \n",
    "    \n",
    "    \n",
    "    plot_cdf(camp_adjusted, axs[1], 'campaign')\n",
    "    plot_weibull_cdf(camp_adjusted, axs[1], 'campaign')\n",
    "    plot_lognormal_cdf(camp_adjusted, axs[1], 'campaign')\n",
    "    plot_gamma_cdf(camp_adjusted, axs[1], 'campaign')\n",
    "    plot_exponential_cdf(camp_adjusted, axs[1], 'campaign')\n",
    "    \n",
    "    \n",
    "    axs[1].set_xlabel('Lifespan (hours)')\n",
    "    axs[1].set_title('(a) Campaign', pad=34)\n",
    "    axs[1].set_xscale('log')\n",
    "    axs[1].set_xlim(10, 100000)\n",
    "    axs[1].grid(True, linestyle=':', alpha=0.8)\n",
    "    \n",
    "    fig.legend(loc='upper center', bbox_to_anchor=(0.5, 1.06), ncol=5)\n",
    "\n",
    "\n",
    "    plt.savefig('lifespan_fit.pdf', bbox_inches='tight')\n",
    "\n",
    "    plt.show()"
   ]
  },
  {
   "cell_type": "code",
   "execution_count": 10,
   "metadata": {},
   "outputs": [],
   "source": [
    "def main():\n",
    "    alpine_lifespan = read_rtf_and_convert('poh-lifespan-alpine.rtf')\n",
    "    camp_lifespan = read_rtf_and_convert('poh-lifespan-campaign.rtf')\n",
    "    \n",
    "    alpine_adjusted = adjust_before_fit(alpine_lifespan)\n",
    "    camp_adjusted = adjust_before_fit(camp_lifespan)\n",
    "    \n",
    "    generate_plots(alpine_adjusted, camp_adjusted)"
   ]
  },
  {
   "cell_type": "code",
   "execution_count": 11,
   "metadata": {},
   "outputs": [
    {
     "name": "stdout",
     "output_type": "stream",
     "text": [
      "Weibull parameters: shape=0.4470012628333564, loc=0, scale=1520.6116631915772, log-likelihood=-4136.455827367245\n",
      "Lognormal parameters: shape=2.2171012648939095, loc=0.0, scale=479.42761936579996, log-likelihood=-4084.8255190832183\n",
      "Gamma parameters: shape=0.31398355204040757, loc=0, scale=13506.404052090655, log-likelihood=-4179.794556802308\n",
      "Exponential parameters: loc=0.0, scale=4240.788719568378, log-likelihood=-4554.669715700386\n",
      "Weibull parameters: shape=0.5058264204106293, loc=0, scale=2044.4804885516587, log-likelihood=-2411.9630829201355\n",
      "Lognormal parameters: shape=2.6840596733219284, loc=0.0, scale=610.8159310594829, log-likelihood=-2443.434905373439\n",
      "Gamma parameters: shape=0.37758591631786614, loc=0, scale=9393.924462978019, log-likelihood=-2404.4464314406096\n",
      "Exponential parameters: loc=0.0, scale=3547.013576174374, log-likelihood=-2541.1595751902532\n"
     ]
    },
    {
     "data": {
      "image/png": "[encoded data removed]",
      "text/plain": [
       "<Figure size 720x216 with 2 Axes>"
      ]
     },
     "metadata": {
      "needs_background": "light"
     },
     "output_type": "display_data"
    }
   ],
   "source": [
    "if __name__ == \"__main__\":\n",
    "    main()"
   ]
  },
  {
   "cell_type": "code",
   "execution_count": null,
   "metadata": {},
   "outputs": [],
   "source": []
  }
 ],
 "metadata": {
  "colab": {
   "provenance": [
    {
     "file_id": "1jP6fRbwiHxdNtWjjtkdaN-CgXhm79dy_",
     "timestamp": 1721019646093
    }
   ]
  },
  "kernelspec": {
   "display_name": "Python 3 (ipykernel)",
   "language": "python",
   "name": "python3"
  },
  "language_info": {
   "codemirror_mode": {
    "name": "ipython",
    "version": 3
   },
   "file_extension": ".py",
   "mimetype": "text/x-python",
   "name": "python",
   "nbconvert_exporter": "python",
   "pygments_lexer": "ipython3",
   "version": "3.8.2"
  }
 },
 "nbformat": 4,
 "nbformat_minor": 1
}
