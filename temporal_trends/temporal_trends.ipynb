{
 "cells": [
  {
   "cell_type": "code",
   "execution_count": 1,
   "id": "d19c85d7",
   "metadata": {},
   "outputs": [],
   "source": [
    "import pandas as pd\n",
    "import numpy as np\n",
    "import matplotlib.pyplot as plt\n",
    "import seaborn as sns\n",
    "from dateutil.parser import isoparse\n",
    "from mpl_toolkits.axes_grid1.inset_locator import inset_axes\n",
    "\n",
    "# Set universal font sizes using rcParams\n",
    "plt.rcParams['axes.labelsize'] = 20  # For x and y labels\n",
    "plt.rcParams['xtick.labelsize'] = 20  # For x-ticks\n",
    "plt.rcParams['ytick.labelsize'] = 20  # For y-ticks\n",
    "plt.rcParams['legend.fontsize'] = 20  # For legend\n",
    "plt.rcParams['axes.titlesize'] = 20"
   ]
  },
  {
   "cell_type": "code",
   "execution_count": 2,
   "id": "d1267ddd",
   "metadata": {},
   "outputs": [],
   "source": [
    "def construct_formatted_df(input_csv):\n",
    "    formatted_df = pd.read_csv(input_csv, index_col=0)\n",
    "    return formatted_df"
   ]
  },
  {
   "cell_type": "code",
   "execution_count": 3,
   "id": "e0ec5af7",
   "metadata": {},
   "outputs": [],
   "source": [
    "def calculate_yearly_count(formatted_df):\n",
    "    formatted_df['Timestamp'] = pd.to_datetime(formatted_df['Timestamp'], utc=True, format='%Y-%m-%dT%H:%M:%S%z')\n",
    "    formatted_df['Year'] = formatted_df['Timestamp'].dt.year\n",
    "    yearly_failures = formatted_df.groupby('Year').size().reset_index(name='number_of_failures')\n",
    "    return yearly_failures"
   ]
  },
  {
   "cell_type": "code",
   "execution_count": 4,
   "id": "cd9a4350",
   "metadata": {},
   "outputs": [],
   "source": [
    "def calculate_monthly_variability(formatted_df):\n",
    "    formatted_df['Timestamp'] = pd.to_datetime(formatted_df['Timestamp'], utc=True, format='%Y-%m-%dT%H:%M:%S%z')\n",
    "    formatted_df['Month'] = formatted_df['Timestamp'].dt.month\n",
    "    monthly_failures = formatted_df.groupby('Month').size().reset_index(name='number_of_failures')\n",
    "    return monthly_failures"
   ]
  },
  {
   "cell_type": "code",
   "execution_count": 5,
   "id": "3c287143",
   "metadata": {},
   "outputs": [],
   "source": [
    "def calculate_weekly_patterns(formatted_df):\n",
    "    formatted_df['Timestamp'] = pd.to_datetime(formatted_df['Timestamp'], utc=True, format='%Y-%m-%dT%H:%M:%S%z')\n",
    "    formatted_df['Day'] = formatted_df['Timestamp'].dt.dayofweek\n",
    "    daily_failures = formatted_df.groupby('Day').size().reset_index(name='number_of_failures')\n",
    "    return daily_failures"
   ]
  },
  {
   "cell_type": "code",
   "execution_count": 6,
   "id": "ddcdc81d",
   "metadata": {},
   "outputs": [],
   "source": [
    "def calculate_hourly_fluctuations(formatted_df):\n",
    "    formatted_df['Timestamp'] = pd.to_datetime(formatted_df['Timestamp'], utc=True, format='%Y-%m-%dT%H:%M:%S%z')\n",
    "    formatted_df['Hour'] = formatted_df['Timestamp'].dt.hour + 1\n",
    "    hourly_failures = formatted_df.groupby('Hour').size().reset_index(name='number_of_failures')\n",
    "    return hourly_failures"
   ]
  },
  {
   "cell_type": "code",
   "execution_count": 7,
   "id": "7884eb4e",
   "metadata": {},
   "outputs": [],
   "source": [
    "def generate_temporal_distributions_plot(alpine_monthly_failures, alpine_weekly_failures, \n",
    "                                         alpine_hourly_failures, camp_monthly_failures, \n",
    "                                         camp_weekly_failures, camp_hourly_failures):\n",
    "    fig, axs = plt.subplots(nrows=2, ncols=3, figsize=(9, 6))\n",
    "    \n",
    "    axs[0,0].bar(alpine_monthly_failures['Month'], alpine_monthly_failures['number_of_failures'], color='coral')\n",
    "    axs[0,0].set_title('(a) Monthly')\n",
    "    axs[0,0].set_ylabel('# Failures')\n",
    "    axs[0,0].set_xticks([3, 6, 9, 12])\n",
    "    axs[0,0].set_yticks([0, 250, 500])\n",
    "    axs[0,0].yaxis.set_tick_params(which='both',      \n",
    "                left=True,        \n",
    "                right=False,      \n",
    "                labelleft=True)\n",
    "    \n",
    "    \n",
    "    axs[0,1].bar(alpine_weekly_failures['Day'], alpine_weekly_failures['number_of_failures'], color='coral')\n",
    "    axs[0,1].set_title('(b) Weekly')\n",
    "    labels = ['M', 'T', 'W', 'T', 'F', 'S', 'S']\n",
    "    axs[0,1].set_xticks(range(0, 7), labels) \n",
    "    ylables = ['0', '.5K', '1K', '1.5K']\n",
    "    axs[0,1].set_yticks([0, 250, 500, 750])\n",
    "    axs[0,1].yaxis.set_tick_params(which='both',      \n",
    "                left=True,        \n",
    "                right=False,       \n",
    "                labelleft=True)\n",
    "    \n",
    "    \n",
    "    axs[0,2].bar(alpine_hourly_failures['Hour'], alpine_hourly_failures['number_of_failures'], color='coral')\n",
    "    axs[0,2].set_title('(c) Hourly')\n",
    "    axs[0,2].set_xticks([1, 8, 16, 24])  # Force only these ticks\n",
    "\n",
    "\n",
    "    axs[1,0].bar(camp_monthly_failures['Month'], camp_monthly_failures['number_of_failures'], color='yellowgreen')\n",
    "    axs[1,0].set_title('(d) Monthly')\n",
    "    axs[1,0].set_xlabel('Months')\n",
    "    axs[1,0].set_ylabel('# Failures')\n",
    "    axs[1,0].set_xticks([3, 6, 9, 12])\n",
    "    axs[1,0].set_ylim(0, 400)\n",
    "    axs[1,0].set_yticks([0, 200, 400])\n",
    "    axs[1,0].yaxis.set_tick_params(which='both',     \n",
    "                    left=True,        \n",
    "                    right=False,       \n",
    "                    labelleft=True)\n",
    "\n",
    "    \n",
    "    axs[1,1].bar(camp_weekly_failures['Day'], camp_weekly_failures['number_of_failures'], color='yellowgreen')\n",
    "    axs[1,1].set_title('(e) Weekly')\n",
    "    axs[1,1].set_xlabel('Days of the week')\n",
    "    labels = ['M', 'T', 'W', 'T', 'F', 'S', 'S']\n",
    "    axs[1,1].set_xticks(range(0, 7), labels) \n",
    "    axs[1,1].set_ylim(0, 400)\n",
    "    axs[1,1].set_yticks([0, 200, 400])\n",
    "    axs[1,1].yaxis.set_tick_params(which='both',      \n",
    "                    left=True,        \n",
    "                    right=False,       \n",
    "                    labelleft=True)  \n",
    "   \n",
    "\n",
    "    axs[1,2].bar(camp_hourly_failures['Hour'], camp_hourly_failures['number_of_failures'], color='yellowgreen')\n",
    "    axs[1,2].set_title('(f) Hourly')\n",
    "    axs[1,2].set_xlabel('Hours of the day')\n",
    "    axs[1,2].set_xticks([5, 10, 15, 20])   \n",
    "    axs[1,2].set_xticks([1, 8, 16, 24]) \n",
    "\n",
    "\n",
    "    plt.tight_layout()\n",
    "    plt.savefig(\"months_ornl.pdf\", bbox_inches='tight')\n",
    "    plt.show()"
   ]
  },
  {
   "cell_type": "code",
   "execution_count": 8,
   "id": "5205fd3b",
   "metadata": {},
   "outputs": [],
   "source": [
    "def print_calendar_sums(monthly_failures):\n",
    "    # Sum every 3 months\n",
    "    print(\"Quarterly sums:\")\n",
    "    for i in range(0, len(monthly_failures), 3):\n",
    "        sum_quarter = monthly_failures['number_of_failures'][i:i+3].sum()\n",
    "        print(f'Sum from Month {i+1} to {i+3}: {sum_quarter}')\n",
    "\n",
    "    # Sum every 6 months\n",
    "    print(\"\\nHalf-yearly sums:\")\n",
    "    for i in range(0, len(monthly_failures), 6):\n",
    "        sum_half_year = monthly_failures['number_of_failures'][i:i+6].sum()\n",
    "        print(f'Sum from Month {i+1} to {i+6}: {sum_half_year}')"
   ]
  },
  {
   "cell_type": "code",
   "execution_count": 9,
   "id": "0e2c2f4f",
   "metadata": {},
   "outputs": [],
   "source": [
    "def main():\n",
    "    #construct formatted df\n",
    "    alpine_formatted_df= construct_formatted_df(\"../alpine_formatted_data.csv\")\n",
    "    camp_formatted_df = construct_formatted_df(\"../camp_formatted_data.csv\")\n",
    "    \n",
    "    #calculate yearly count of failures\n",
    "    alpine_yearly_failures = calculate_yearly_count(alpine_formatted_df)\n",
    "    camp_yearly_failures = calculate_yearly_count(camp_formatted_df)\n",
    "    \n",
    "    #calculate monthly variability of failures\n",
    "    alpine_monthly_failures = calculate_monthly_variability(alpine_formatted_df)\n",
    "    camp_monthly_failures = calculate_monthly_variability(camp_formatted_df)\n",
    "    \n",
    "    #calculate weekly patterns of failures\n",
    "    alpine_weekly_failures = calculate_weekly_patterns(alpine_formatted_df)\n",
    "    camp_weekly_failures = calculate_weekly_patterns(camp_formatted_df)\n",
    "    \n",
    "    #calculate hourly fluctuations of failures\n",
    "    alpine_hourly_failures = calculate_hourly_fluctuations(alpine_formatted_df)\n",
    "    camp_hourly_failures = calculate_hourly_fluctuations(camp_formatted_df)\n",
    "    \n",
    "    #generate plots\n",
    "    generate_temporal_distributions_plot(alpine_monthly_failures, alpine_weekly_failures, \n",
    "                                         alpine_hourly_failures, camp_monthly_failures, \n",
    "                                         camp_weekly_failures, camp_hourly_failures)\n",
    "    \n",
    "    #print important information\n",
    "    print(\"*********** Alpine ***********\")\n",
    "    print_calendar_sums(alpine_monthly_failures)\n",
    "    print(\"*********** Campaign ***********\")\n",
    "    print_calendar_sums(camp_monthly_failures)\n"
   ]
  },
  {
   "cell_type": "code",
   "execution_count": 10,
   "id": "e46c5893",
   "metadata": {},
   "outputs": [
    {
     "data": {
      "image/png": "[encoded data removed]",
      "text/plain": [
       "<Figure size 648x432 with 6 Axes>"
      ]
     },
     "metadata": {
      "needs_background": "light"
     },
     "output_type": "display_data"
    },
    {
     "name": "stdout",
     "output_type": "stream",
     "text": [
      "*********** Alpine ***********\n",
      "Quarterly sums:\n",
      "Sum from Month 1 to 3: 1103\n",
      "Sum from Month 4 to 6: 1246\n",
      "Sum from Month 7 to 9: 662\n",
      "Sum from Month 10 to 12: 755\n",
      "\n",
      "Half-yearly sums:\n",
      "Sum from Month 1 to 6: 2349\n",
      "Sum from Month 7 to 12: 1417\n",
      "*********** Campaign ***********\n",
      "Quarterly sums:\n",
      "Sum from Month 1 to 3: 454\n",
      "Sum from Month 4 to 6: 425\n",
      "Sum from Month 7 to 9: 391\n",
      "Sum from Month 10 to 12: 119\n",
      "\n",
      "Half-yearly sums:\n",
      "Sum from Month 1 to 6: 879\n",
      "Sum from Month 7 to 12: 510\n"
     ]
    }
   ],
   "source": [
    "if __name__ == \"__main__\":\n",
    "    main()"
   ]
  },
  {
   "cell_type": "code",
   "execution_count": null,
   "id": "d653062b",
   "metadata": {},
   "outputs": [],
   "source": []
  }
 ],
 "metadata": {
  "kernelspec": {
   "display_name": "Python 3 (ipykernel)",
   "language": "python",
   "name": "python3"
  },
  "language_info": {
   "codemirror_mode": {
    "name": "ipython",
    "version": 3
   },
   "file_extension": ".py",
   "mimetype": "text/x-python",
   "name": "python",
   "nbconvert_exporter": "python",
   "pygments_lexer": "ipython3",
   "version": "3.8.2"
  }
 },
 "nbformat": 4,
 "nbformat_minor": 5
}
