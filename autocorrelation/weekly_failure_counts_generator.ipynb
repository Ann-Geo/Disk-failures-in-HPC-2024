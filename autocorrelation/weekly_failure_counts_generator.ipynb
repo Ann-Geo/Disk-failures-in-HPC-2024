{
 "cells": [
  {
   "cell_type": "code",
   "execution_count": 1,
   "id": "054f3619",
   "metadata": {},
   "outputs": [],
   "source": [
    "import pandas as pd\n",
    "import numpy as np\n",
    "import matplotlib.pyplot as plt\n",
    "import seaborn as sns\n",
    "from dateutil.parser import isoparse\n",
    "from mpl_toolkits.axes_grid1.inset_locator import inset_axes\n",
    "\n",
    "# Set universal font sizes using rcParams\n",
    "plt.rcParams['axes.labelsize'] = 20  # For x and y labels\n",
    "plt.rcParams['xtick.labelsize'] = 20  # For x-ticks\n",
    "plt.rcParams['ytick.labelsize'] = 20  # For y-ticks\n",
    "plt.rcParams['legend.fontsize'] = 20  # For legend\n",
    "plt.rcParams['axes.titlesize'] = 20"
   ]
  },
  {
   "cell_type": "code",
   "execution_count": 2,
   "id": "9fb320f3",
   "metadata": {},
   "outputs": [],
   "source": [
    "def construct_formatted_df(input_csv):\n",
    "    formatted_df = pd.read_csv(input_csv, index_col=0)\n",
    "    return formatted_df"
   ]
  },
  {
   "cell_type": "code",
   "execution_count": 3,
   "id": "7c3822fe",
   "metadata": {},
   "outputs": [],
   "source": [
    "def calculate_weekly_numbers_survive_prob(formatted_df):\n",
    "    formatted_df['Timestamp'] = pd.to_datetime(formatted_df['Timestamp'], utc=True, format='%Y-%m-%dT%H:%M:%S%z')\n",
    "    formatted_df['Year'] = formatted_df['Timestamp'].dt.isocalendar().year\n",
    "    formatted_df['Week'] = formatted_df['Timestamp'].dt.isocalendar().week\n",
    "    weekly_failures = formatted_df.groupby(['Year', 'Week']).size().reset_index(name='number_of_failures')\n",
    "    return weekly_failures"
   ]
  },
  {
   "cell_type": "code",
   "execution_count": 4,
   "id": "7251f772",
   "metadata": {},
   "outputs": [],
   "source": [
    "def main():\n",
    "    #construct formatted df\n",
    "    alpine_formatted_df= construct_formatted_df(\"../alpine_formatted_data.csv\")\n",
    "    camp_formatted_df = construct_formatted_df(\"../camp_formatted_data.csv\")\n",
    "    \n",
    "    #calculate alpine weekly failure numbers for survival probability\n",
    "    alpine_weekly_numbers = calculate_weekly_numbers_survive_prob(alpine_formatted_df)\n",
    "    camp_weekly_numbers = calculate_weekly_numbers_survive_prob(camp_formatted_df)\n",
    "    \n",
    "    #write to csv files\n",
    "    alpine_weekly_numbers.to_csv('alpine_weekly_numbers.csv')\n",
    "    camp_weekly_numbers.to_csv('camp_weekly_numbers.csv')\n",
    " "
   ]
  },
  {
   "cell_type": "code",
   "execution_count": 5,
   "id": "ab5a9cf4",
   "metadata": {},
   "outputs": [],
   "source": [
    "if __name__ == \"__main__\":\n",
    "    main()"
   ]
  }
 ],
 "metadata": {
  "kernelspec": {
   "display_name": "Python 3 (ipykernel)",
   "language": "python",
   "name": "python3"
  },
  "language_info": {
   "codemirror_mode": {
    "name": "ipython",
    "version": 3
   },
   "file_extension": ".py",
   "mimetype": "text/x-python",
   "name": "python",
   "nbconvert_exporter": "python",
   "pygments_lexer": "ipython3",
   "version": "3.8.2"
  }
 },
 "nbformat": 4,
 "nbformat_minor": 5
}
