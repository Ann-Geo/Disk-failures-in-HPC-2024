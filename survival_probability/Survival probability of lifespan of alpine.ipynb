{
 "cells": [
  {
   "cell_type": "code",
   "execution_count": 1,
   "metadata": {},
   "outputs": [],
   "source": [
    "import pandas as pd\n",
    "import numpy as np\n",
    "import matplotlib.pyplot as plt\n",
    "import seaborn as sns\n",
    "import matplotlib.ticker as mticker\n",
    "import ast\n",
    "from scipy.stats import weibull_min\n",
    "from scipy.stats import lognorm, gamma, expon\n",
    "from statsmodels.tsa.stattools import acf\n",
    "from dateutil.parser import isoparse\n",
    "from mpl_toolkits.axes_grid1.inset_locator import inset_axes\n",
    "from striprtf.striprtf import rtf_to_text\n",
    "from lifelines import KaplanMeierFitter\n",
    "\n",
    "\n",
    "# Set universal font sizes using rcParams\n",
    "plt.rcParams['axes.labelsize'] = 15  # For x and y labels\n",
    "plt.rcParams['xtick.labelsize'] = 14 # For x-ticks\n",
    "plt.rcParams['ytick.labelsize'] = 14  # For y-ticks\n",
    "plt.rcParams['legend.fontsize'] = 15  # For legend\n",
    "plt.rcParams['axes.titlesize'] = 15"
   ]
  },
  {
   "cell_type": "code",
   "execution_count": 2,
   "metadata": {
    "colab": {
     "base_uri": "https://localhost:8080/",
     "height": 333
    },
    "executionInfo": {
     "elapsed": 1388,
     "status": "ok",
     "timestamp": 1721622525904,
     "user": {
      "displayName": "Meng Wang",
      "userId": "02180496309622746671"
     },
     "user_tz": -480
    },
    "id": "lh9LvQo-qOYR",
    "outputId": "1bccebce-feb6-4706-d892-280b44664a62"
   },
   "outputs": [],
   "source": [
    "def generate_survival_plot(alpine_lifespan, camp_lifespan):\n",
    "    alpine_data = pd.DataFrame({'lifespan': alpine_lifespan, 'event': np.ones(len(alpine_lifespan))})\n",
    "    camp_data = pd.DataFrame({'lifespan': camp_lifespan, 'event': np.ones(len(camp_lifespan))})\n",
    "\n",
    "    alpine_kmf = KaplanMeierFitter()\n",
    "    alpine_kmf.fit(alpine_data['lifespan'], event_observed=alpine_data['event'], label='Alpine', )\n",
    "\n",
    "    camp_kmf = KaplanMeierFitter()\n",
    "    camp_kmf.fit(camp_data['lifespan'], event_observed=camp_data['event'], label='Campaign', )\n",
    "\n",
    "    plt.figure(figsize=(4, 3))\n",
    "    alpine_kmf.plot_survival_function(color='coral')\n",
    "    camp_kmf.plot_survival_function(color='green')\n",
    "    xticks = [0, 10000, 20000, 30000, 40000]\n",
    "    xtick_lables = ['0', '10K', '20K', '30K', '40K']\n",
    "    plt.xticks(xticks, labels=xtick_lables)\n",
    "    plt.xlabel('Lifespan (hours)')\n",
    "    plt.ylabel('Survival probability')\n",
    "    plt.legend()\n",
    "\n",
    "    plt.savefig('survival_prob.pdf', bbox_inches='tight')\n",
    "\n",
    "    plt.show()"
   ]
  },
  {
   "cell_type": "code",
   "execution_count": 3,
   "metadata": {},
   "outputs": [],
   "source": [
    "def convert_plain_to_float(lifespan_plain):\n",
    "    lifespans_float = [float(x) for x in ast.literal_eval(lifespan_plain.replace(\" \", \", \"))]\n",
    "    return lifespans_float"
   ]
  },
  {
   "cell_type": "code",
   "execution_count": 4,
   "metadata": {},
   "outputs": [],
   "source": [
    "def convert_rtf_to_text(rtf_path):\n",
    "    try:\n",
    "        with open(rtf_path, 'r') as file:\n",
    "            rtf_content = file.read()\n",
    "        plain_text = rtf_to_text(rtf_content)\n",
    "        return plain_text\n",
    "    except Exception as e:\n",
    "        print(f\"An error occurred: {e}\")\n",
    "        return None"
   ]
  },
  {
   "cell_type": "code",
   "execution_count": 5,
   "metadata": {},
   "outputs": [],
   "source": [
    "def main():\n",
    "    #get plain text from input files\n",
    "    alpine_lifespan_plain = convert_rtf_to_text(\"poh-lifespan-alpine.rtf\")\n",
    "    camp_lifespan_plain = convert_rtf_to_text(\"poh-lifespan-campaign.rtf\")\n",
    "    \n",
    "    #convert plain text to float\n",
    "    alpine_lifespan = convert_plain_to_float(alpine_lifespan_plain)\n",
    "    camp_lifespan = convert_plain_to_float(camp_lifespan_plain)\n",
    "    \n",
    "    #geberate plot\n",
    "    generate_survival_plot(alpine_lifespan, camp_lifespan)\n",
    "        "
   ]
  },
  {
   "cell_type": "code",
   "execution_count": 6,
   "metadata": {
    "id": "jkFLt7Zr-JkO"
   },
   "outputs": [
    {
     "data": {
      "image/png": "[encoded data removed]",
      "text/plain": [
       "<Figure size 288x216 with 1 Axes>"
      ]
     },
     "metadata": {
      "needs_background": "light"
     },
     "output_type": "display_data"
    }
   ],
   "source": [
    "if __name__ == \"__main__\":\n",
    "    main()"
   ]
  }
 ],
 "metadata": {
  "colab": {
   "provenance": [
    {
     "file_id": "1hNuuswEj0jqxpA5tiKd09JXhe7yAWIZ3",
     "timestamp": 1721608093780
    },
    {
     "file_id": "1jP6fRbwiHxdNtWjjtkdaN-CgXhm79dy_",
     "timestamp": 1721019646093
    }
   ]
  },
  "kernelspec": {
   "display_name": "Python 3 (ipykernel)",
   "language": "python",
   "name": "python3"
  },
  "language_info": {
   "codemirror_mode": {
    "name": "ipython",
    "version": 3
   },
   "file_extension": ".py",
   "mimetype": "text/x-python",
   "name": "python",
   "nbconvert_exporter": "python",
   "pygments_lexer": "ipython3",
   "version": "3.8.2"
  }
 },
 "nbformat": 4,
 "nbformat_minor": 1
}
